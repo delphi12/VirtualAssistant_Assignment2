{
  "cells": [
    {
      "cell_type": "markdown",
      "metadata": {
        "id": "view-in-github",
        "colab_type": "text"
      },
      "source": [
        "<a href=\"https://colab.research.google.com/github/delphi12/VirtualAssistant_Assignment2/blob/main/VA2.ipynb\" target=\"_parent\"><img src=\"https://colab.research.google.com/assets/colab-badge.svg\" alt=\"Open In Colab\"/></a>"
      ]
    },
    {
      "cell_type": "code",
      "execution_count": null,
      "metadata": {
        "id": "e7E_Y1MESX9t"
      },
      "outputs": [],
      "source": [
        "#Paraphrase classifier"
      ]
    },
    {
      "cell_type": "code",
      "source": [
        "#ASSSSSSSS"
      ],
      "metadata": {
        "id": "Nfov_fhbSaz7"
      },
      "execution_count": null,
      "outputs": []
    },
    {
      "cell_type": "code",
      "execution_count": null,
      "metadata": {
        "id": "NNg6SqYZLAVR"
      },
      "outputs": [],
      "source": [
        "import pandas\n"
      ]
    },
    {
      "cell_type": "code",
      "execution_count": null,
      "metadata": {
        "id": "_VKTjxuhSX90"
      },
      "outputs": [],
      "source": [
        "#asss2"
      ]
    }
  ],
  "metadata": {
    "colab": {
      "provenance": [],
      "toc_visible": true,
      "include_colab_link": true
    },
    "kernelspec": {
      "display_name": "Python 3",
      "name": "python3"
    },
    "language_info": {
      "name": "python"
    }
  },
  "nbformat": 4,
  "nbformat_minor": 0
}