{
 "cells": [
  {
   "cell_type": "code",
   "execution_count": 1,
   "id": "d73541c7",
   "metadata": {},
   "outputs": [],
   "source": [
    "import pandas as pd\n",
    "from collections import Counter"
   ]
  },
  {
   "cell_type": "code",
   "execution_count": 3,
   "id": "31ad1423",
   "metadata": {},
   "outputs": [
    {
     "name": "stdout",
     "output_type": "stream",
     "text": [
      "     Topic_Id Topic_Name                                             Sent_1  \\\n",
      "0          51     8 Mile                All the home alones watching 8 mile   \n",
      "1          51     8 Mile                All the home alones watching 8 mile   \n",
      "2          51     8 Mile                All the home alones watching 8 mile   \n",
      "3          51     8 Mile  The Ending to 8 Mile is my fav part of the who...   \n",
      "4          51     8 Mile  The Ending to 8 Mile is my fav part of the who...   \n",
      "..        ...        ...                                                ...   \n",
      "967      5273       Z-Bo                                  Ball dont lie ZBo   \n",
      "968      5273       Z-Bo                                  The Spurs own ZBo   \n",
      "969      5273       Z-Bo                                  The Spurs own ZBo   \n",
      "970      5273       Z-Bo                                  The Spurs own ZBo   \n",
      "971      5273       Z-Bo                                  The Spurs own ZBo   \n",
      "\n",
      "                                                Sent_2  Label  \\\n",
      "0                          8 mile is on thats my movie      3   \n",
      "1     The last rap battle in 8 Mile nevr gets old ahah      2   \n",
      "2    The rap battle at the end of 8 mile gets me so...      2   \n",
      "3    Rabbit on 8 mile out of place but determined t...      1   \n",
      "4    See 8 Mile is always on but it s the tv versio...      1   \n",
      "..                                                 ...    ...   \n",
      "967                        If Zbo didnt make that shot      2   \n",
      "968                             ZBo is a fucking scrub      1   \n",
      "969                     ZBo hit these free throws bruh      1   \n",
      "970                                I told you feed Zbo      1   \n",
      "971  Memphis is still my team and ZBo is still my dude      1   \n",
      "\n",
      "                                            Sent_1_tag  \\\n",
      "0    All/O/DT/B-NP/O the/O/DT/I-NP/O home/O/NN/I-NP...   \n",
      "1    All/O/DT/B-NP/O the/O/DT/I-NP/O home/O/NN/I-NP...   \n",
      "2    All/O/DT/B-NP/O the/O/DT/I-NP/O home/O/NN/I-NP...   \n",
      "3    The/O/DT/B-NP/O Ending/O/VBG/I-NP/B-EVENT to/O...   \n",
      "4    The/O/DT/B-NP/O Ending/O/VBG/I-NP/B-EVENT to/O...   \n",
      "..                                                 ...   \n",
      "967  Ball/O/NN/B-NP/O dont/O/MD/B-VP/O lie/O/VB/I-V...   \n",
      "968  The/B-sportsteam/DT/B-NP/O Spurs/I-sportsteam/...   \n",
      "969  The/B-sportsteam/DT/B-NP/O Spurs/I-sportsteam/...   \n",
      "970  The/B-sportsteam/DT/B-NP/O Spurs/I-sportsteam/...   \n",
      "971  The/B-sportsteam/DT/B-NP/O Spurs/I-sportsteam/...   \n",
      "\n",
      "                                            Sent_2_tag  \n",
      "0    8/O/NN/B-NP/O mile/O/NN/I-NP/O is/O/VBZ/B-VP/O...  \n",
      "1    The/O/DT/B-NP/O last/O/JJ/I-NP/O rap/O/NN/I-NP...  \n",
      "2    The/O/DT/B-NP/O rap/O/NN/I-NP/O battle/O/NN/I-...  \n",
      "3    Rabbit/O/NNP/B-NP/O on/O/IN/B-PP/O 8/O/CD/B-NP...  \n",
      "4    See/O/VB/B-VP/O 8/O/CD/B-NP/O Mile/O/NNP/I-NP/...  \n",
      "..                                                 ...  \n",
      "967  If/O/IN/B-SBAR/O Zbo/O/NNP/B-NP/O didnt/O/MD/B...  \n",
      "968  ZBo/B-person/NNP/B-NP/O is/O/VBZ/B-VP/O a/O/DT...  \n",
      "969  ZBo/O/MD/B-VP/O hit/O/VB/I-VP/B-EVENT these/O/...  \n",
      "970  I/O/PRP/B-NP/O told/O/VBD/B-VP/B-EVENT you/O/P...  \n",
      "971  Memphis/B-geo-loc/NNP/B-NP/O is/O/VBZ/B-VP/O s...  \n",
      "\n",
      "[972 rows x 7 columns]\n"
     ]
    }
   ],
   "source": [
    "df_test = pd.read_csv('./DataFiles/test.data', sep='\\t', header=None)\n",
    "df_test = pd.DataFrame(df_test)\n",
    "\n",
    "df_test.columns = ['Topic_Id','Topic_Name','Sent_1','Sent_2','Label','Sent_1_tag','Sent_2_tag']\n",
    "\n",
    "print(df_test)"
   ]
  },
  {
   "cell_type": "code",
   "execution_count": 4,
   "id": "c6efc615",
   "metadata": {},
   "outputs": [
    {
     "name": "stdout",
     "output_type": "stream",
     "text": [
      "<class 'pandas.core.frame.DataFrame'>\n",
      "RangeIndex: 972 entries, 0 to 971\n",
      "Data columns (total 7 columns):\n",
      " #   Column      Non-Null Count  Dtype \n",
      "---  ------      --------------  ----- \n",
      " 0   Topic_Id    972 non-null    int64 \n",
      " 1   Topic_Name  972 non-null    object\n",
      " 2   Sent_1      972 non-null    object\n",
      " 3   Sent_2      972 non-null    object\n",
      " 4   Label       972 non-null    int64 \n",
      " 5   Sent_1_tag  972 non-null    object\n",
      " 6   Sent_2_tag  972 non-null    object\n",
      "dtypes: int64(2), object(5)\n",
      "memory usage: 53.3+ KB\n"
     ]
    }
   ],
   "source": [
    "df_test.info()\n",
    "# RangeIndex: 972 entries, 0 to 971\n",
    "\n",
    "# write the test data to csv file\n",
    "df_test.to_csv(\"./DataFiles/test.csv\",index=False)"
   ]
  },
  {
   "cell_type": "code",
   "execution_count": 5,
   "id": "100ba7b2",
   "metadata": {},
   "outputs": [],
   "source": [
    "df_test_new = df_test.query(\"Label != 3\")\n",
    "df_test_new = df_test_new.reset_index()\n",
    "df_test_new.drop([\"index\"],axis=1, inplace=True)\n",
    "\n",
    "# write the test data to csv file, do not include lines that Label == 3\n",
    "df_test_new.to_csv(\"./DataFiles/test_01_ori.csv\",index=False)\n",
    "\n",
    "# transfer the value of label to 0 or 1\n",
    "df_test_01 = df_test_new.copy()\n",
    "df_test_01['Label'].replace(1, 0, inplace=True)\n",
    "df_test_01['Label'].replace(2, 0, inplace=True)\n",
    "\n",
    "df_test_01['Label'].replace(4, 1, inplace=True)\n",
    "df_test_01['Label'].replace(5, 1, inplace=True)\n",
    "\n",
    "Counter(df_test_01['Label'])\n",
    "#Counter({0: 663, 1: 175})\n",
    "\n",
    "# write the test data to csv file, Label = 0 or 1\n",
    "df_test_01.to_csv(\"./DataFiles/test_01.csv\",index=False)"
   ]
  },
  {
   "cell_type": "code",
   "execution_count": null,
   "id": "61707ce2",
   "metadata": {},
   "outputs": [],
   "source": []
  }
 ],
 "metadata": {
  "kernelspec": {
   "display_name": "Python 3 (ipykernel)",
   "language": "python",
   "name": "python3"
  },
  "language_info": {
   "codemirror_mode": {
    "name": "ipython",
    "version": 3
   },
   "file_extension": ".py",
   "mimetype": "text/x-python",
   "name": "python",
   "nbconvert_exporter": "python",
   "pygments_lexer": "ipython3",
   "version": "3.9.13"
  }
 },
 "nbformat": 4,
 "nbformat_minor": 5
}
