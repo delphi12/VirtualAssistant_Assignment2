{
  "nbformat": 4,
  "nbformat_minor": 0,
  "metadata": {
    "colab": {
      "provenance": [],
      "authorship_tag": "ABX9TyOIcaziCSN0Y98oeVdfPRj/",
      "include_colab_link": true
    },
    "kernelspec": {
      "name": "python3",
      "display_name": "Python 3"
    },
    "language_info": {
      "name": "python"
    }
  },
  "cells": [
    {
      "cell_type": "markdown",
      "metadata": {
        "id": "view-in-github",
        "colab_type": "text"
      },
      "source": [
        "<a href=\"https://colab.research.google.com/github/delphi12/VirtualAssistant_Assignment2/blob/main/Algorithms/Algorithm2_Jaccard.ipynb\" target=\"_parent\"><img src=\"https://colab.research.google.com/assets/colab-badge.svg\" alt=\"Open In Colab\"/></a>"
      ]
    },
    {
      "cell_type": "code",
      "execution_count": 3,
      "metadata": {
        "id": "dP4BxWfnozNZ"
      },
      "outputs": [],
      "source": [
        "import pandas as pd\n",
        "from nltk.metrics import jaccard_distance\n",
        "from sklearn.feature_extraction.text import CountVectorizer\n",
        "import numpy as np\n",
        "from sklearn import tree\n",
        "from sklearn.metrics import confusion_matrix\n",
        "from sklearn.metrics import classification_report\n",
        "from sklearn.metrics import f1_score\n",
        "from sklearn.metrics import accuracy_score\n",
        "from sklearn.metrics import precision_score\n",
        "from sklearn.metrics import recall_score"
      ]
    },
    {
      "cell_type": "code",
      "source": [
        "df_train = pd.read_csv('./DataFiles/train_01.csv')\n",
        "df_dev = pd.read_csv('./DataFiles/dev_01.csv')\n",
        "df_test = pd.read_csv('./DataFiles/test_01.csv')"
      ],
      "metadata": {
        "id": "31wonCmkxrwN"
      },
      "execution_count": null,
      "outputs": []
    },
    {
      "cell_type": "code",
      "source": [
        "#Jaccard distance for training data\n",
        "jaccard_dis = []\n",
        "\n",
        "for i in range(0,(len(df_train)-1)):\n",
        "    s1 = str(df_train['Sent_1'][i])\n",
        "    s2 = str(df_train['Sent_2'][i])\n",
        "\n",
        "    # transfer to TF Matrix\n",
        "    cv = CountVectorizer(tokenizer=lambda s: s.split())\n",
        "    corpus = [s1, s2]\n",
        "    vectors = cv.fit_transform(corpus).toarray()\n",
        "    # disjuction\n",
        "    numerator = np.sum(np.min(vectors, axis=0))\n",
        "    # conjuction\n",
        "    denominator = np.sum(np.max(vectors, axis=0))\n",
        "    # jaccard distance\n",
        "    jaccard_dis.append(1.0 * numerator / denominator)\n",
        "  \n",
        "# print(jaccard_dis)"
      ],
      "metadata": {
        "id": "y_xbKunuyIpz"
      },
      "execution_count": 5,
      "outputs": []
    },
    {
      "cell_type": "code",
      "source": [
        "# Preparing training data\n",
        "train_data = pd.concat([df_train['Topic_Id'],pd.DataFrame(jaccard_dis),df_train['Label']],axis=1)\n",
        "train_data.columns = ['Topic_Id','distance','Label']\n",
        "\n",
        "if(train_data.isna().sum().sum()) > 0:\n",
        "    #Drop NaN values\n",
        "    train_data = train_data.dropna()\n",
        "\n",
        "# Write the training data to csv file\n",
        "train_data.to_csv(\"./DataFiles/train_data_alg2.csv\",index=0)\n"
      ],
      "metadata": {
        "id": "tm8xu9YcyTxO"
      },
      "execution_count": 6,
      "outputs": []
    },
    {
      "cell_type": "code",
      "source": [
        "# Calculating Jaccard distance for dev data\n",
        "jaccard_dis_dev = []\n",
        "#print(len(df_dev_01)-1)\n",
        "\n",
        "for i in range(0,(len(df_dev)-1)):\n",
        "    s1 = str(df_dev['Sent_1'][i])\n",
        "    s2 = str(df_dev['Sent_2'][i])\n",
        "    # transfer to TF Matrix\n",
        "    cv = CountVectorizer(tokenizer=lambda s: s.split())\n",
        "    corpus = [s1, s2]\n",
        "    vectors = cv.fit_transform(corpus).toarray()\n",
        "    # disjuction\n",
        "    numerator = np.sum(np.min(vectors, axis=0))\n",
        "    # conjuction\n",
        "    denominator = np.sum(np.max(vectors, axis=0))\n",
        "    # jaccard distance\n",
        "    jaccard_dis_dev.append(1.0 * numerator / denominator)  \n",
        "# print(jaccard_dis_dev)"
      ],
      "metadata": {
        "id": "NDNCJ8DTyfLb"
      },
      "execution_count": 7,
      "outputs": []
    },
    {
      "cell_type": "code",
      "source": [
        "# Prepearing dev data \n",
        "dev_data = pd.concat([df_dev['Topic_Id'],pd.DataFrame(jaccard_dis_dev),df_dev['Label']],axis=1)\n",
        "dev_data.columns = ['Topic_Id','distance','Label']\n",
        "\n",
        "if(dev_data.isna().sum().sum()) > 0:\n",
        "    #drop NaN values\n",
        "    dev_data = dev_data.dropna()\n",
        "\n",
        "# write the dev data to csv file\n",
        "dev_data.to_csv(\"./DataFiles/dev_data_alg2.csv\",index=0)"
      ],
      "metadata": {
        "id": "HwFQebTtykmJ"
      },
      "execution_count": 8,
      "outputs": []
    },
    {
      "cell_type": "code",
      "source": [
        "# Calculating Jaccard distance for test data\n",
        "jaccard_dis_test = []\n",
        "#print(len(df_test_01)-1)\n",
        "\n",
        "for i in range(0,(len(df_test)-1)):\n",
        "    s1 = str(df_test['Sent_1'][i])\n",
        "    s2 = str(df_test['Sent_2'][i])\n",
        "    # transfer to TF Matrix\n",
        "    cv = CountVectorizer(tokenizer=lambda s: s.split())\n",
        "    corpus = [s1, s2]\n",
        "    vectors = cv.fit_transform(corpus).toarray()\n",
        "    # disjuction\n",
        "    numerator = np.sum(np.min(vectors, axis=0))\n",
        "    # conjuction\n",
        "    denominator = np.sum(np.max(vectors, axis=0))\n",
        "    # jaccard distance\n",
        "    jaccard_dis_test.append(1.0 * numerator / denominator)\n",
        "# print(jaccard_dis_test)"
      ],
      "metadata": {
        "id": "77m8C9ucysbm"
      },
      "execution_count": 9,
      "outputs": []
    },
    {
      "cell_type": "code",
      "source": [
        "# Preparing test data\n",
        "test_data = pd.concat([df_test['Topic_Id'],pd.DataFrame(jaccard_dis_test),df_test['Label']],axis=1)\n",
        "test_data.columns = ['Topic_Id','distance','Label']\n",
        "\n",
        "if(test_data.isna().sum().sum()) > 0:\n",
        "    #drop NaN values\n",
        "    test_data = test_data.dropna()\n",
        "\n",
        "# write the test data to csv file\n",
        "test_data.to_csv(\"./DataFiles/test_data_alg2.csv\",index=0)"
      ],
      "metadata": {
        "id": "Q6ihDmHoyzaO"
      },
      "execution_count": 10,
      "outputs": []
    },
    {
      "cell_type": "markdown",
      "source": [
        "# Algorithm 2 - Training and testing"
      ],
      "metadata": {
        "id": "psPNTQot82wQ"
      }
    },
    {
      "cell_type": "code",
      "source": [
        "# train data_X, train_data_y\n",
        "train_data_y = train_data['Label']\n",
        "train_data_X = train_data.copy()\n",
        "train_data_X.drop(['Label'],axis=1,inplace=True)"
      ],
      "metadata": {
        "id": "5yh4i0Qby-Pc"
      },
      "execution_count": 11,
      "outputs": []
    },
    {
      "cell_type": "code",
      "source": [
        "# dev_data_X, dev_data_y\n",
        "dev_data_y = dev_data['Label']\n",
        "dev_data_X = dev_data.copy()\n",
        "dev_data_X.drop(['Label'],axis=1,inplace=True)"
      ],
      "metadata": {
        "id": "PFv4OKK5zBFv"
      },
      "execution_count": 12,
      "outputs": []
    },
    {
      "cell_type": "code",
      "source": [
        "# test_data_X, test_data_y\n",
        "test_data_y = test_data['Label']\n",
        "test_data_X = test_data.copy()\n",
        "test_data_X.drop(['Label'], axis=1, inplace=True)"
      ],
      "metadata": {
        "id": "cC0Ewz3XzDwl"
      },
      "execution_count": 13,
      "outputs": []
    },
    {
      "cell_type": "code",
      "source": [
        "# training the model with DecisionTreeClassifier\n",
        "clf_tree = tree.DecisionTreeClassifier(criterion=\"entropy\")\n",
        "clf_tree = clf_tree.fit(train_data_X,train_data_y)\n",
        "score_tree = clf_tree.score(dev_data_X, dev_data_y)\n",
        "print(\"\\n score_tree:\",score_tree)\n",
        "print(\"\\n\")"
      ],
      "metadata": {
        "colab": {
          "base_uri": "https://localhost:8080/"
        },
        "id": "yG6iC8QczGuQ",
        "outputId": "84fc5cb1-9431-4c27-9b6b-ee195b7e1edd"
      },
      "execution_count": 14,
      "outputs": [
        {
          "output_type": "stream",
          "name": "stdout",
          "text": [
            "\n",
            " score_tree: 0.6928278193673025\n",
            "\n",
            "\n"
          ]
        }
      ]
    },
    {
      "cell_type": "code",
      "source": [
        "dev_y_pred = clf_tree.predict(dev_data_X)\n",
        "dev_y_true = dev_data_y\n",
        "f1 = f1_score(dev_y_true,dev_y_pred)\n",
        "print(\"f1_score:\",f1)\n",
        "print(\"\\n\")\n"
      ],
      "metadata": {
        "colab": {
          "base_uri": "https://localhost:8080/"
        },
        "id": "hxr-N30GzLjZ",
        "outputId": "41ccb6fb-42e7-4acf-e4be-2c39974b5b4d"
      },
      "execution_count": 15,
      "outputs": [
        {
          "output_type": "stream",
          "name": "stdout",
          "text": [
            "f1_score: 0.49881796690307334\n",
            "\n",
            "\n"
          ]
        }
      ]
    },
    {
      "cell_type": "code",
      "source": [
        "print(classification_report(dev_y_true,dev_y_pred))\n"
      ],
      "metadata": {
        "colab": {
          "base_uri": "https://localhost:8080/"
        },
        "id": "8GVBsDQqzN9D",
        "outputId": "dd43c15e-d47e-4131-f201-18e636a340c7"
      },
      "execution_count": 16,
      "outputs": [
        {
          "output_type": "stream",
          "name": "stdout",
          "text": [
            "              precision    recall  f1-score   support\n",
            "\n",
            "           0       0.73      0.84      0.78      2671\n",
            "           1       0.59      0.43      0.50      1470\n",
            "\n",
            "    accuracy                           0.69      4141\n",
            "   macro avg       0.66      0.63      0.64      4141\n",
            "weighted avg       0.68      0.69      0.68      4141\n",
            "\n"
          ]
        }
      ]
    },
    {
      "cell_type": "code",
      "source": [
        "# test\n",
        "test_y_pred = clf_tree.predict(test_data_X)\n",
        "test_y_true = test_data_y\n",
        "f1_test = f1_score(test_y_true,test_y_pred)\n",
        "print(\"\\n f1_score_test:\",f1_test)\n",
        "print(\"\\n test:\")\n",
        "print(classification_report(test_y_true, test_y_pred))"
      ],
      "metadata": {
        "colab": {
          "base_uri": "https://localhost:8080/"
        },
        "id": "F8Rj5XR-zQSZ",
        "outputId": "937b8184-aeb4-4ce0-afe6-cb2abb8b05e7"
      },
      "execution_count": 17,
      "outputs": [
        {
          "output_type": "stream",
          "name": "stdout",
          "text": [
            "\n",
            " f1_score_test: 0.39843749999999994\n",
            "\n",
            " test:\n",
            "              precision    recall  f1-score   support\n",
            "\n",
            "           0       0.84      0.95      0.89       662\n",
            "           1       0.63      0.29      0.40       175\n",
            "\n",
            "    accuracy                           0.82       837\n",
            "   macro avg       0.73      0.62      0.64       837\n",
            "weighted avg       0.79      0.82      0.79       837\n",
            "\n"
          ]
        }
      ]
    },
    {
      "cell_type": "code",
      "source": [
        "accuracy_score(test_y_true, test_y_pred)"
      ],
      "metadata": {
        "colab": {
          "base_uri": "https://localhost:8080/"
        },
        "id": "fFbRWGQG6woz",
        "outputId": "89ca5906-887b-45af-effc-66a6688301bc"
      },
      "execution_count": 18,
      "outputs": [
        {
          "output_type": "execute_result",
          "data": {
            "text/plain": [
              "0.8160095579450418"
            ]
          },
          "metadata": {},
          "execution_count": 18
        }
      ]
    },
    {
      "cell_type": "code",
      "source": [
        "precision_score(test_y_true, test_y_pred)"
      ],
      "metadata": {
        "colab": {
          "base_uri": "https://localhost:8080/"
        },
        "id": "xIPSzA2-67m_",
        "outputId": "28dacdbc-697d-4639-d61d-f3ea51ec27c6"
      },
      "execution_count": 19,
      "outputs": [
        {
          "output_type": "execute_result",
          "data": {
            "text/plain": [
              "0.6296296296296297"
            ]
          },
          "metadata": {},
          "execution_count": 19
        }
      ]
    },
    {
      "cell_type": "code",
      "source": [
        "recall_score(test_y_true, test_y_pred)"
      ],
      "metadata": {
        "colab": {
          "base_uri": "https://localhost:8080/"
        },
        "id": "RNfapSz-7ICm",
        "outputId": "2417b9ed-9d51-4e83-c5f8-a8d64a453794"
      },
      "execution_count": 20,
      "outputs": [
        {
          "output_type": "execute_result",
          "data": {
            "text/plain": [
              "0.2914285714285714"
            ]
          },
          "metadata": {},
          "execution_count": 20
        }
      ]
    },
    {
      "cell_type": "code",
      "source": [
        "print(test_y_true)"
      ],
      "metadata": {
        "colab": {
          "base_uri": "https://localhost:8080/"
        },
        "id": "wBdLyeCd8r6H",
        "outputId": "43259d91-a000-4a24-9f1c-5b65a53dc41c"
      },
      "execution_count": 21,
      "outputs": [
        {
          "output_type": "stream",
          "name": "stdout",
          "text": [
            "0      0\n",
            "1      0\n",
            "2      0\n",
            "3      0\n",
            "4      1\n",
            "      ..\n",
            "832    0\n",
            "833    0\n",
            "834    0\n",
            "835    0\n",
            "836    0\n",
            "Name: Label, Length: 837, dtype: int64\n"
          ]
        }
      ]
    },
    {
      "cell_type": "code",
      "source": [
        "test_y_true.to_numpy()"
      ],
      "metadata": {
        "colab": {
          "base_uri": "https://localhost:8080/"
        },
        "id": "-LNi118W9OPP",
        "outputId": "624c9767-8431-4cc1-a5a6-a6cb8e8027d8"
      },
      "execution_count": 22,
      "outputs": [
        {
          "output_type": "execute_result",
          "data": {
            "text/plain": [
              "array([0, 0, 0, 0, 1, 0, 0, 0, 1, 0, 0, 1, 0, 0, 0, 0, 0, 0, 0, 1, 1, 1,\n",
              "       0, 0, 1, 0, 0, 0, 0, 0, 0, 0, 0, 1, 0, 1, 0, 1, 0, 0, 1, 0, 0, 0,\n",
              "       0, 0, 0, 0, 0, 0, 0, 0, 0, 0, 0, 0, 0, 0, 0, 1, 0, 0, 0, 0, 0, 0,\n",
              "       0, 1, 0, 0, 0, 0, 0, 0, 1, 1, 1, 0, 0, 0, 0, 1, 0, 0, 0, 0, 0, 0,\n",
              "       0, 0, 0, 0, 0, 0, 0, 0, 0, 0, 0, 0, 0, 0, 0, 0, 0, 0, 0, 0, 0, 0,\n",
              "       0, 0, 0, 0, 0, 0, 0, 0, 0, 0, 0, 0, 0, 0, 0, 0, 0, 1, 0, 1, 0, 0,\n",
              "       1, 0, 0, 0, 0, 0, 0, 0, 1, 0, 0, 1, 1, 0, 0, 0, 0, 0, 0, 0, 0, 0,\n",
              "       0, 0, 0, 0, 1, 1, 0, 0, 0, 0, 0, 0, 0, 0, 0, 0, 0, 0, 0, 0, 0, 0,\n",
              "       0, 0, 0, 0, 0, 0, 0, 0, 0, 0, 0, 0, 0, 0, 0, 0, 0, 0, 0, 0, 0, 0,\n",
              "       0, 0, 0, 0, 0, 0, 0, 0, 1, 1, 1, 0, 0, 1, 0, 1, 1, 0, 1, 1, 1, 0,\n",
              "       0, 1, 0, 0, 1, 1, 0, 1, 1, 0, 0, 0, 1, 1, 0, 0, 0, 0, 0, 0, 0, 0,\n",
              "       0, 0, 0, 0, 0, 0, 0, 0, 0, 0, 0, 0, 0, 0, 1, 0, 0, 0, 0, 0, 0, 0,\n",
              "       0, 0, 0, 0, 0, 0, 0, 0, 0, 0, 0, 0, 0, 0, 0, 0, 0, 0, 0, 0, 0, 0,\n",
              "       0, 0, 0, 0, 0, 0, 0, 0, 0, 0, 0, 0, 0, 0, 0, 0, 0, 0, 0, 0, 0, 0,\n",
              "       0, 0, 0, 0, 0, 0, 0, 1, 1, 1, 1, 1, 1, 0, 1, 1, 0, 1, 1, 1, 1, 1,\n",
              "       1, 1, 1, 1, 1, 1, 1, 1, 1, 1, 1, 1, 1, 1, 1, 1, 1, 1, 1, 1, 1, 1,\n",
              "       1, 1, 1, 0, 0, 0, 1, 0, 0, 0, 1, 0, 0, 1, 0, 0, 0, 1, 0, 0, 0, 0,\n",
              "       0, 0, 0, 0, 0, 0, 0, 0, 0, 0, 0, 0, 0, 0, 0, 0, 0, 0, 0, 0, 0, 0,\n",
              "       0, 0, 0, 0, 0, 0, 0, 0, 0, 1, 0, 0, 0, 1, 1, 0, 0, 0, 0, 0, 0, 0,\n",
              "       0, 0, 1, 0, 0, 0, 0, 0, 0, 0, 0, 0, 0, 0, 0, 0, 0, 0, 0, 0, 0, 0,\n",
              "       0, 0, 0, 0, 0, 0, 0, 0, 0, 0, 0, 0, 0, 0, 0, 0, 1, 0, 0, 0, 0, 0,\n",
              "       0, 1, 0, 1, 1, 1, 1, 1, 1, 1, 1, 1, 1, 0, 1, 0, 0, 0, 0, 0, 0, 0,\n",
              "       0, 1, 1, 0, 0, 0, 0, 0, 0, 0, 0, 0, 0, 0, 0, 0, 0, 0, 0, 1, 0, 1,\n",
              "       1, 0, 0, 0, 0, 0, 0, 0, 0, 0, 0, 0, 0, 0, 1, 0, 0, 0, 0, 0, 1, 0,\n",
              "       0, 0, 0, 0, 0, 0, 0, 0, 0, 0, 0, 0, 1, 0, 1, 1, 1, 1, 1, 1, 1, 0,\n",
              "       1, 1, 1, 1, 1, 1, 1, 0, 1, 1, 0, 0, 0, 0, 0, 0, 0, 0, 0, 0, 0, 0,\n",
              "       0, 0, 0, 0, 0, 0, 0, 0, 0, 0, 0, 0, 0, 0, 1, 1, 1, 0, 0, 1, 1, 1,\n",
              "       1, 1, 1, 0, 0, 0, 1, 1, 0, 1, 0, 0, 0, 0, 0, 1, 1, 0, 0, 1, 0, 1,\n",
              "       1, 0, 0, 0, 0, 0, 0, 0, 0, 0, 0, 0, 0, 0, 0, 0, 0, 0, 0, 0, 0, 0,\n",
              "       0, 0, 0, 0, 0, 0, 0, 0, 0, 0, 0, 0, 0, 1, 1, 0, 0, 0, 0, 0, 0, 0,\n",
              "       0, 1, 1, 1, 1, 1, 1, 0, 0, 0, 0, 0, 0, 0, 0, 0, 0, 0, 0, 0, 0, 0,\n",
              "       0, 0, 0, 0, 0, 0, 0, 0, 0, 0, 0, 0, 0, 0, 0, 0, 0, 0, 0, 0, 0, 0,\n",
              "       0, 0, 0, 0, 0, 0, 0, 0, 0, 0, 0, 0, 0, 0, 1, 1, 1, 0, 1, 1, 0, 0,\n",
              "       0, 1, 1, 1, 1, 0, 1, 1, 1, 0, 1, 0, 0, 0, 0, 0, 0, 0, 1, 0, 0, 1,\n",
              "       1, 0, 1, 1, 0, 0, 0, 0, 0, 0, 0, 0, 0, 0, 0, 0, 0, 0, 0, 0, 0, 0,\n",
              "       0, 0, 0, 0, 0, 0, 0, 0, 0, 0, 0, 0, 0, 0, 0, 0, 0, 0, 0, 0, 1, 1,\n",
              "       0, 0, 0, 1, 1, 1, 1, 0, 0, 0, 0, 0, 0, 0, 1, 0, 0, 0, 0, 0, 0, 0,\n",
              "       0, 0, 0, 0, 0, 0, 0, 0, 0, 0, 0, 0, 0, 0, 0, 0, 0, 0, 0, 0, 0, 0,\n",
              "       0])"
            ]
          },
          "metadata": {},
          "execution_count": 22
        }
      ]
    },
    {
      "cell_type": "code",
      "source": [
        "print(test_y_pred)"
      ],
      "metadata": {
        "colab": {
          "base_uri": "https://localhost:8080/"
        },
        "id": "4EUsy2Y_8xht",
        "outputId": "6ad27c42-5bf8-4257-d9ec-82d0b0a13144"
      },
      "execution_count": 23,
      "outputs": [
        {
          "output_type": "stream",
          "name": "stdout",
          "text": [
            "[0 1 0 0 0 0 0 1 0 0 0 0 0 0 0 0 0 1 0 0 1 0 0 0 0 0 0 0 0 0 0 0 0 0 0 0 0\n",
            " 0 0 0 1 0 0 0 1 0 0 0 0 0 0 0 0 0 0 0 0 0 0 0 0 0 0 0 0 0 0 0 0 0 0 0 0 0\n",
            " 0 0 0 0 0 0 0 1 0 0 0 0 0 0 0 0 0 0 0 0 0 0 1 0 0 0 0 0 0 0 0 0 0 0 0 0 0\n",
            " 0 0 0 0 0 0 0 0 0 0 0 0 0 0 0 0 0 0 0 0 0 0 0 0 0 0 0 0 0 1 0 0 0 0 0 0 0\n",
            " 0 0 0 0 0 0 0 0 0 0 0 0 0 0 0 0 0 0 0 0 0 0 0 0 1 0 0 0 0 0 0 0 0 0 0 0 0\n",
            " 0 0 0 0 0 1 0 1 0 0 0 0 0 1 1 0 0 0 0 0 0 0 0 0 0 1 0 0 0 1 0 1 1 1 0 0 1\n",
            " 0 1 0 0 0 1 0 0 0 0 0 0 0 0 0 0 0 1 0 0 0 0 0 0 0 0 0 0 0 0 0 0 0 0 0 0 0\n",
            " 0 1 0 0 0 0 0 0 1 0 0 0 0 1 0 1 1 0 0 1 1 0 0 0 0 1 1 1 0 0 1 0 0 1 0 0 0\n",
            " 0 0 0 0 0 0 0 0 0 0 0 0 0 0 0 0 0 1 0 1 1 1 1 1 1 1 1 1 0 0 1 0 1 0 1 1 1\n",
            " 0 1 1 0 1 1 1 1 1 1 0 1 1 1 1 0 1 1 0 0 1 1 0 0 0 0 0 0 0 0 0 0 0 0 0 0 0\n",
            " 0 0 0 0 0 0 0 0 0 0 0 0 0 0 0 0 0 0 0 0 0 0 0 0 0 0 0 0 0 0 0 0 0 0 0 0 0\n",
            " 0 0 0 0 0 0 0 0 0 0 0 0 0 0 0 0 0 0 0 0 0 0 0 0 0 0 0 0 0 0 0 0 0 0 0 0 0\n",
            " 0 0 0 0 0 0 0 0 0 0 0 0 0 0 0 0 0 0 0 0 0 1 0 0 0 0 0 0 0 0 0 0 1 0 0 0 0\n",
            " 0 0 0 0 0 0 0 0 0 0 0 0 0 0 0 0 0 0 0 0 0 0 0 0 0 0 0 0 0 0 0 0 0 0 0 0 0\n",
            " 0 0 0 0 0 0 0 0 0 0 0 0 0 0 0 0 0 0 0 0 0 0 0 0 0 0 0 1 1 0 0 0 1 0 1 0 0\n",
            " 0 0 0 1 0 0 0 0 0 0 0 0 0 0 0 0 0 0 0 0 0 0 0 0 0 0 0 0 0 0 0 1 0 1 0 0 0\n",
            " 0 0 0 1 0 0 0 1 0 0 0 0 0 0 0 0 0 0 0 0 0 0 0 0 0 0 0 0 0 0 0 0 0 0 0 0 0\n",
            " 0 0 0 0 0 0 0 0 0 0 0 0 0 0 0 0 0 0 0 0 0 0 0 0 0 0 0 0 0 0 0 0 0 0 0 0 0\n",
            " 0 0 0 0 0 0 0 0 0 0 0 0 0 0 0 0 0 0 0 0 0 0 0 0 0 0 0 0 0 0 0 0 0 0 0 0 0\n",
            " 0 0 0 0 0 0 0 0 0 0 0 0 0 0 0 0 0 0 0 0 0 0 0 0 0 1 0 0 0 0 0 0 0 0 0 0 0\n",
            " 0 0 0 0 0 0 0 0 0 0 0 0 0 0 0 0 0 0 0 0 0 0 0 0 0 0 0 0 0 0 0 0 0 0 0 0 0\n",
            " 0 0 0 0 0 0 0 0 0 0 0 0 0 0 0 0 0 0 1 0 0 0 0 0 0 0 0 0 1 0 0 1 0 0 0 0 0\n",
            " 0 0 0 0 0 0 0 0 0 0 0 0 0 0 0 0 0 0 0 0 0 0 0]\n"
          ]
        }
      ]
    },
    {
      "cell_type": "code",
      "source": [
        "from sklearn.metrics import RocCurveDisplay\n",
        "roc_disp = RocCurveDisplay.from_estimator(clf_tree, test_data_X, test_data_y)"
      ],
      "metadata": {
        "colab": {
          "base_uri": "https://localhost:8080/",
          "height": 279
        },
        "id": "kATUvr3yAVas",
        "outputId": "64429247-99d9-4e70-dd12-2266f25ca11e"
      },
      "execution_count": 24,
      "outputs": [
        {
          "output_type": "display_data",
          "data": {
            "text/plain": [
              "<Figure size 432x288 with 1 Axes>"
            ],
            "image/png": "[encoded data removed]"
          },
          "metadata": {
            "needs_background": "light"
          }
        }
      ]
    }
  ]
}