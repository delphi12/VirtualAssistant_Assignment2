{
 "cells": [
  {
   "cell_type": "code",
   "execution_count": 1,
   "id": "ae8f60d5",
   "metadata": {},
   "outputs": [],
   "source": [
    "import pandas as pd\n",
    "from collections import Counter"
   ]
  },
  {
   "cell_type": "code",
   "execution_count": 2,
   "id": "addfbd8e",
   "metadata": {},
   "outputs": [
    {
     "name": "stdout",
     "output_type": "stream",
     "text": [
      "       Topic_Id Topic_Name                                    Sent_1  \\\n",
      "0             4     1st QB  EJ Manuel the 1st QB to go in this draft   \n",
      "1             4     1st QB  EJ Manuel the 1st QB to go in this draft   \n",
      "2             4     1st QB  EJ Manuel the 1st QB to go in this draft   \n",
      "3             4     1st QB  EJ Manuel the 1st QB to go in this draft   \n",
      "4             4     1st QB  EJ Manuel the 1st QB to go in this draft   \n",
      "...         ...        ...                                       ...   \n",
      "13058      1891   iPhone 5               It fits the larger iPhone 5   \n",
      "13059      1891   iPhone 5               It fits the larger iPhone 5   \n",
      "13060      1891   iPhone 5               It fits the larger iPhone 5   \n",
      "13061      1891   iPhone 5               It fits the larger iPhone 5   \n",
      "13062      1891   iPhone 5               It fits the larger iPhone 5   \n",
      "\n",
      "                                                  Sent_2   Label  \\\n",
      "0      But my bro from the 757 EJ Manuel is the 1st Q...  (5, 0)   \n",
      "1      Can believe EJ Manuel went as the 1st QB in th...  (5, 0)   \n",
      "2                           EJ MANUEL IS THE 1ST QB what  (3, 2)   \n",
      "3                              EJ da 1st QB off da board  (2, 3)   \n",
      "4                    Manuel is the 1st QB to get drafted  (4, 1)   \n",
      "...                                                  ...     ...   \n",
      "13058  My brother thirsty for this iPhone 5 so ill gu...  (0, 5)   \n",
      "13059            Should I get the iPhone 5 or an Android  (0, 5)   \n",
      "13060   Somebody bring me an iPhone 5 charger to my work  (0, 5)   \n",
      "13061                       Unlocked iPhone 5 300 hit me  (0, 5)   \n",
      "13062  if you have an iPhone 5 guess what WE FINALLY ...  (0, 5)   \n",
      "\n",
      "                                              Sent_1_tag  \\\n",
      "0      EJ/B-person/NNP/B-NP/O Manuel/I-person/NNP/B-V...   \n",
      "1      EJ/B-person/NNP/B-NP/O Manuel/I-person/NNP/B-V...   \n",
      "2      EJ/B-person/NNP/B-NP/O Manuel/I-person/NNP/B-V...   \n",
      "3      EJ/B-person/NNP/B-NP/O Manuel/I-person/NNP/B-V...   \n",
      "4      EJ/B-person/NNP/B-NP/O Manuel/I-person/NNP/B-V...   \n",
      "...                                                  ...   \n",
      "13058  It/O/PRP/B-NP/O fits/O/VBZ/B-VP/O the/O/DT/B-N...   \n",
      "13059  It/O/PRP/B-NP/O fits/O/VBZ/B-VP/O the/O/DT/B-N...   \n",
      "13060  It/O/PRP/B-NP/O fits/O/VBZ/B-VP/O the/O/DT/B-N...   \n",
      "13061  It/O/PRP/B-NP/O fits/O/VBZ/B-VP/O the/O/DT/B-N...   \n",
      "13062  It/O/PRP/B-NP/O fits/O/VBZ/B-VP/O the/O/DT/B-N...   \n",
      "\n",
      "                                              Sent_2_tag  \n",
      "0      But/O/CC/O/O my/O/PRP$/B-NP/O bro/O/NN/I-NP/O ...  \n",
      "1      Can/O/MD/B-VP/O believe/O/VB/I-VP/B-EVENT EJ/B...  \n",
      "2      EJ/B-person/NNP/B-NP/O MANUEL/I-person/NNP/I-N...  \n",
      "3      EJ/O/NNP/B-NP/O da/O/DT/I-NP/O 1st/O/CD/I-NP/O...  \n",
      "4      Manuel/B-person/NNP/B-NP/O is/O/VBZ/B-VP/O the...  \n",
      "...                                                  ...  \n",
      "13058  My/O/PRP$/B-NP/O brother/O/NN/I-NP/O thirsty/O...  \n",
      "13059  Should/O/UH/O/O I/O/PRP/B-NP/O get/O/VBP/B-VP/...  \n",
      "13060  Somebody/O/NN/B-NP/O bring/O/VB/B-VP/B-EVENT m...  \n",
      "13061  Unlocked/O/NNP/B-NP/O iPhone/O/NNP/I-NP/O 5/O/...  \n",
      "13062  if/O/IN/B-SBAR/O you/O/PRP/B-NP/O have/O/VBP/B...  \n",
      "\n",
      "[13063 rows x 7 columns]\n"
     ]
    }
   ],
   "source": [
    "df_train = pd.read_csv('./DataFiles/train.data', sep='\\t', header=None)\n",
    "df_train = pd.DataFrame(df_train)\n",
    "\n",
    "df_train.columns = ['Topic_Id','Topic_Name','Sent_1','Sent_2','Label','Sent_1_tag','Sent_2_tag']\n",
    "\n",
    "print(df_train)"
   ]
  },
  {
   "cell_type": "code",
   "execution_count": 4,
   "id": "facf262d",
   "metadata": {},
   "outputs": [
    {
     "name": "stdout",
     "output_type": "stream",
     "text": [
      "<class 'pandas.core.frame.DataFrame'>\n",
      "RangeIndex: 13063 entries, 0 to 13062\n",
      "Data columns (total 7 columns):\n",
      " #   Column      Non-Null Count  Dtype \n",
      "---  ------      --------------  ----- \n",
      " 0   Topic_Id    13063 non-null  int64 \n",
      " 1   Topic_Name  13063 non-null  object\n",
      " 2   Sent_1      13063 non-null  object\n",
      " 3   Sent_2      13063 non-null  object\n",
      " 4   Label       13063 non-null  object\n",
      " 5   Sent_1_tag  13063 non-null  object\n",
      " 6   Sent_2_tag  13063 non-null  object\n",
      "dtypes: int64(1), object(6)\n",
      "memory usage: 714.5+ KB\n"
     ]
    }
   ],
   "source": [
    "df_train.info()\n",
    "df_train.to_csv(\"./DataFiles/train.csv\",index=False)"
   ]
  },
  {
   "cell_type": "code",
   "execution_count": 7,
   "id": "cd306378",
   "metadata": {},
   "outputs": [],
   "source": [
    "df_train_new = df_train.query(\"Label != '(2, 3)'\")\n",
    "df_train_new = df_train_new.reset_index()\n",
    "df_train_new.drop([\"index\"],axis=1, inplace=True)\n",
    "\n",
    "# write the train data to csv file, do not include lines that Label == '(2, 3)'\n",
    "df_train_new.to_csv(\"./DataFiles/train_01_ori.csv\",index=False)\n",
    "\n",
    "# transfer the value of label to 0 or 1\n",
    "df_train_01 = df_train_new.copy()\n",
    "df_train_01['Label'].replace('(0, 5)',0, inplace=True)\n",
    "df_train_01['Label'].replace('(1, 4)',0, inplace=True)\n",
    "\n",
    "df_train_01['Label'].replace('(3, 2)',1, inplace=True)\n",
    "df_train_01['Label'].replace('(4, 1)',1, inplace=True)\n",
    "df_train_01['Label'].replace('(5, 0)',1, inplace=True)\n",
    "\n",
    "Counter(df_train_01['Label'])\n",
    "\n",
    "df_train_01.to_csv(\"./DataFiles/train_01.csv\",index=False)"
   ]
  },
  {
   "cell_type": "code",
   "execution_count": null,
   "id": "f17152c6",
   "metadata": {},
   "outputs": [],
   "source": []
  }
 ],
 "metadata": {
  "kernelspec": {
   "display_name": "Python 3 (ipykernel)",
   "language": "python",
   "name": "python3"
  },
  "language_info": {
   "codemirror_mode": {
    "name": "ipython",
    "version": 3
   },
   "file_extension": ".py",
   "mimetype": "text/x-python",
   "name": "python",
   "nbconvert_exporter": "python",
   "pygments_lexer": "ipython3",
   "version": "3.9.13"
  }
 },
 "nbformat": 4,
 "nbformat_minor": 5
}
