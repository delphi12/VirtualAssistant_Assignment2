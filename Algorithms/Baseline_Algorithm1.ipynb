{
  "nbformat": 4,
  "nbformat_minor": 0,
  "metadata": {
    "colab": {
      "provenance": [],
      "mount_file_id": "1jrVjpqznjbTXINm6Ajdl75PMurIUHmw5",
      "authorship_tag": "ABX9TyMxs6QK2JPKtID+cE6NEUfk",
      "include_colab_link": true
    },
    "kernelspec": {
      "name": "python3",
      "display_name": "Python 3"
    },
    "language_info": {
      "name": "python"
    }
  },
  "cells": [
    {
      "cell_type": "markdown",
      "metadata": {
        "id": "view-in-github",
        "colab_type": "text"
      },
      "source": [
        "<a href=\"https://colab.research.google.com/github/delphi12/VirtualAssistant_Assignment2/blob/main/Algorithms/Baseline_Algorithm1.ipynb\" target=\"_parent\"><img src=\"https://colab.research.google.com/assets/colab-badge.svg\" alt=\"Open In Colab\"/></a>"
      ]
    },
    {
      "cell_type": "code",
      "execution_count": 99,
      "metadata": {
        "id": "M0RgXQP1LDVe"
      },
      "outputs": [],
      "source": [
        "#importing necessary packages\n",
        "import pandas as pd\n",
        "from nltk.metrics import edit_distance\n",
        "from sklearn import tree\n",
        "from sklearn.metrics import classification_report, f1_score"
      ]
    },
    {
      "cell_type": "code",
      "source": [
        "#reading the preprocessed train, dev and test data\n",
        "df_train = pd.read_csv('./DataFiles/train_01.csv')\n",
        "df_dev = pd.read_csv('./DataFiles/dev_01.csv')\n",
        "df_test = pd.read_csv('./DataFiles/test_01.csv')"
      ],
      "metadata": {
        "id": "acFbgga_LeAr"
      },
      "execution_count": 104,
      "outputs": []
    },
    {
      "cell_type": "code",
      "source": [
        "def getEditDistance(dataframe, size):\n",
        "  distance = []\n",
        "  for i in range(size):\n",
        "    sent1 = str(dataframe['Sent_1'][i])\n",
        "    sent2 = str(dataframe['Sent_2'][i])\n",
        "    #print(i, edit_distance(sent1, sent2), sent1, sent2, sep=\"*\")\n",
        "    distance.append(edit_distance(sent1, sent2))\n",
        "  return distance"
      ],
      "metadata": {
        "id": "YYUoW9RgbOLZ"
      },
      "execution_count": 105,
      "outputs": []
    },
    {
      "cell_type": "code",
      "source": [
        "def removeNanValueRows(dataframe):\n",
        "  if(dataframe.isna().sum().sum()) > 0:\n",
        "    dataframe = dataframe.dropna()\n",
        "  return dataframe"
      ],
      "metadata": {
        "id": "qpSvtXHZc9Kp"
      },
      "execution_count": 106,
      "outputs": []
    },
    {
      "cell_type": "markdown",
      "source": [
        "# **Train Dataset: Edit Distance Calculation**\n",
        "\n"
      ],
      "metadata": {
        "id": "EwgJzU6TQUHM"
      }
    },
    {
      "cell_type": "code",
      "source": [
        "print(len(df_train))\n",
        "print(len(df_dev))\n",
        "print(len(df_test))"
      ],
      "metadata": {
        "colab": {
          "base_uri": "https://localhost:8080/"
        },
        "id": "xM0s1vFcQsaj",
        "outputId": "77d51c9a-cddd-43b6-a4f1-374847318f0d"
      },
      "execution_count": 107,
      "outputs": [
        {
          "output_type": "stream",
          "name": "stdout",
          "text": [
            "13063\n",
            "4142\n",
            "838\n"
          ]
        }
      ]
    },
    {
      "cell_type": "code",
      "source": [
        "distance = []\n",
        "size=800\n",
        "\n",
        "distance = getEditDistance(df_train, size)\n",
        "\n",
        "# train data for model training\n",
        "train_data = pd.concat([df_train['Topic_Id'], pd.DataFrame(distance),df_train['Label']],axis=1)\n",
        "train_data.columns = ['Topic_Id','distance','Label']\n",
        "print(len(train_data))\n",
        "\n",
        "#Removing Nan value Rows\n",
        "train_data = removeNanValueRows(train_data)\n",
        "print(len(train_data))\n",
        "\n",
        "# write the train data to csv file\n",
        "train_data.to_csv(\"./DataFiles/train_data_alg1.csv\",index=0)"
      ],
      "metadata": {
        "colab": {
          "base_uri": "https://localhost:8080/"
        },
        "id": "yMQ5jCVJRV9v",
        "outputId": "683bf04b-6680-4667-e112-887b07ea80b0"
      },
      "execution_count": 108,
      "outputs": [
        {
          "output_type": "stream",
          "name": "stdout",
          "text": [
            "13063\n",
            "800\n"
          ]
        }
      ]
    },
    {
      "cell_type": "markdown",
      "source": [
        "# **Dev Dataset: Edit Distance Calculation**\n"
      ],
      "metadata": {
        "id": "tT76zwU5V_W-"
      }
    },
    {
      "cell_type": "code",
      "source": [
        "edit_dis_dev = []\n",
        "size = 100\n",
        "\n",
        "edit_dis_dev = getEditDistance(df_dev, size)\n",
        "\n",
        "# train data for model training\n",
        "dev_data = pd.concat([df_dev['Topic_Id'],pd.DataFrame(edit_dis_dev),df_dev['Label']],axis=1)\n",
        "dev_data.columns = ['Topic_Id','distance','Label']\n",
        "print(len(dev_data))\n",
        "\n",
        "#Removing Nan value Rows\n",
        "dev_data = removeNanValueRows(dev_data)\n",
        "print(len(dev_data))\n",
        "\n",
        "# write the dev data to csv file\n",
        "dev_data.to_csv(\"./DataFiles/dev_data_alg1.csv\",index=0)"
      ],
      "metadata": {
        "colab": {
          "base_uri": "https://localhost:8080/"
        },
        "id": "Q1616t--WE7A",
        "outputId": "ec20a47b-050b-4022-f60d-a0be3d84c14d"
      },
      "execution_count": 84,
      "outputs": [
        {
          "output_type": "stream",
          "name": "stdout",
          "text": [
            "4142\n",
            "100\n"
          ]
        }
      ]
    },
    {
      "cell_type": "markdown",
      "source": [
        "## **Test Dataset: Edit Distance Calculation**"
      ],
      "metadata": {
        "id": "A80nzaOzWL2A"
      }
    },
    {
      "cell_type": "code",
      "source": [
        "edit_dis_test = []\n",
        "size = 100\n",
        "\n",
        "edit_dis_test = getEditDistance(df_test, size)\n",
        "print(len(df_test))\n",
        "\n",
        "# test data for model training\n",
        "test_data = pd.concat([df_test['Topic_Id'],pd.DataFrame(edit_dis_test),df_test['Label']],axis=1)\n",
        "test_data.columns = ['Topic_Id','distance','Label']\n",
        "print(len(test_data))\n",
        "\n",
        "#Removing Nan value Rows\n",
        "test_data = removeNanValueRows(test_data)\n",
        "print(len(test_data))\n",
        "\n",
        "# write the test data to csv file\n",
        "test_data.to_csv(\"./DataFiles/test_data_alg1.csv\",index=0)"
      ],
      "metadata": {
        "colab": {
          "base_uri": "https://localhost:8080/"
        },
        "id": "DClmsqgQWWsX",
        "outputId": "3ec0900f-70cd-45c5-80da-4b42e27d1ae8"
      },
      "execution_count": 86,
      "outputs": [
        {
          "output_type": "stream",
          "name": "stdout",
          "text": [
            "838\n",
            "838\n",
            "100\n"
          ]
        }
      ]
    },
    {
      "cell_type": "markdown",
      "source": [
        "# **Baseline Algorithm**"
      ],
      "metadata": {
        "id": "14mFkVXvWdrY"
      }
    },
    {
      "cell_type": "code",
      "source": [
        "# train data_X, train_data_y\n",
        "train_data_y = train_data['Label']\n",
        "train_data_X = train_data.copy()\n",
        "train_data_X.drop(['Label'],axis=1,inplace=True)"
      ],
      "metadata": {
        "id": "SQ3xxhfNWs42"
      },
      "execution_count": 88,
      "outputs": []
    },
    {
      "cell_type": "code",
      "source": [
        "# dev_data_X, dev_data_y\n",
        "dev_data_y = dev_data['Label']\n",
        "dev_data_X = dev_data.copy()\n",
        "dev_data_X.drop(['Label'],axis=1,inplace=True)"
      ],
      "metadata": {
        "id": "SKLqKN1-WvIj"
      },
      "execution_count": 89,
      "outputs": []
    },
    {
      "cell_type": "code",
      "source": [
        "# test_data_X, test_data_y\n",
        "test_data_y = test_data['Label']\n",
        "test_data_X = test_data.copy()\n",
        "test_data_X.drop(['Label'], axis=1, inplace=True)"
      ],
      "metadata": {
        "id": "grvSUd3bWxVZ"
      },
      "execution_count": 90,
      "outputs": []
    },
    {
      "cell_type": "markdown",
      "source": [
        "### **Train the model with DecisionTreeClassifier**"
      ],
      "metadata": {
        "id": "thZQO7QrWziA"
      }
    },
    {
      "cell_type": "code",
      "source": [
        "clf_tree = tree.DecisionTreeClassifier(criterion=\"entropy\")\n",
        "clf_tree = clf_tree.fit(train_data_X,train_data_y)\n",
        "score_tree = clf_tree.score(dev_data_X, dev_data_y)\n",
        "print(\"score_tree:\",score_tree)"
      ],
      "metadata": {
        "colab": {
          "base_uri": "https://localhost:8080/"
        },
        "id": "bCWX2BihW5An",
        "outputId": "982381ae-facb-438a-caa3-80fb6da56538"
      },
      "execution_count": 110,
      "outputs": [
        {
          "output_type": "stream",
          "name": "stdout",
          "text": [
            "score_tree: 0.68\n"
          ]
        }
      ]
    },
    {
      "cell_type": "code",
      "source": [
        "dev_y_pred = clf_tree.predict(dev_data_X)\n",
        "dev_y_true = dev_data_y\n",
        "f1 = f1_score(dev_y_true,dev_y_pred)\n",
        "print(\"f1_score:\",f1)\n",
        "\n",
        "print(classification_report(dev_y_true,dev_y_pred))"
      ],
      "metadata": {
        "colab": {
          "base_uri": "https://localhost:8080/"
        },
        "id": "183AW9MxXBpa",
        "outputId": "54c9bcd6-5e16-47fd-cb15-0117e3408726"
      },
      "execution_count": 111,
      "outputs": [
        {
          "output_type": "stream",
          "name": "stdout",
          "text": [
            "f1_score: 0.15789473684210525\n",
            "              precision    recall  f1-score   support\n",
            "\n",
            "           0       0.70      0.94      0.80        69\n",
            "           1       0.43      0.10      0.16        31\n",
            "\n",
            "    accuracy                           0.68       100\n",
            "   macro avg       0.56      0.52      0.48       100\n",
            "weighted avg       0.62      0.68      0.60       100\n",
            "\n"
          ]
        }
      ]
    },
    {
      "cell_type": "code",
      "source": [
        "# test\n",
        "test_y_pred = clf_tree.predict(test_data_X)\n",
        "test_y_true = test_data_y\n",
        "f1_test = f1_score(test_y_true,test_y_pred)\n",
        "print(\"f1_score_test:\",f1_test)\n",
        "print(\"\\ntest:\")\n",
        "print(classification_report(test_y_true, test_y_pred))"
      ],
      "metadata": {
        "colab": {
          "base_uri": "https://localhost:8080/"
        },
        "id": "ghs79nRIXEaw",
        "outputId": "1a3c3c29-4ce2-4afa-ca57-8a1341ce5957"
      },
      "execution_count": 113,
      "outputs": [
        {
          "output_type": "stream",
          "name": "stdout",
          "text": [
            "f1_score_test: 0.07407407407407408\n",
            "\n",
            "test:\n",
            "              precision    recall  f1-score   support\n",
            "\n",
            "           0       0.82      0.89      0.86        83\n",
            "           1       0.10      0.06      0.07        17\n",
            "\n",
            "    accuracy                           0.75       100\n",
            "   macro avg       0.46      0.48      0.46       100\n",
            "weighted avg       0.70      0.75      0.72       100\n",
            "\n"
          ]
        }
      ]
    }
  ]
}