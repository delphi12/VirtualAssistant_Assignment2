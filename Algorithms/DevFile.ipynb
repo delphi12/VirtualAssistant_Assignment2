{
 "cells": [
  {
   "cell_type": "code",
   "execution_count": 5,
   "id": "3ba35b0d",
   "metadata": {},
   "outputs": [],
   "source": [
    "import pandas as pd\n",
    "from collections import Counter"
   ]
  },
  {
   "cell_type": "code",
   "execution_count": 7,
   "id": "c49e1768",
   "metadata": {},
   "outputs": [
    {
     "name": "stdout",
     "output_type": "stream",
     "text": [
      "      Topic_Id          Topic_Name  \\\n",
      "0           17  A Walk To Remember   \n",
      "1           17  A Walk To Remember   \n",
      "2           17  A Walk To Remember   \n",
      "3           17  A Walk To Remember   \n",
      "4           17  A Walk To Remember   \n",
      "...        ...                 ...   \n",
      "4722      1902              iTunes   \n",
      "4723      1902              iTunes   \n",
      "4724      1902              iTunes   \n",
      "4725      1902              iTunes   \n",
      "4726      1902              iTunes   \n",
      "\n",
      "                                                 Sent_1  \\\n",
      "0     A Walk to Remember is the definition of true love   \n",
      "1     A Walk to Remember is the definition of true love   \n",
      "2     A Walk to Remember is the definition of true love   \n",
      "3     A Walk to Remember is the definition of true love   \n",
      "4     A Walk to Remember is the definition of true love   \n",
      "...                                                 ...   \n",
      "4722                   My first podcast drops on iTunes   \n",
      "4723                   My first podcast drops on iTunes   \n",
      "4724                   My first podcast drops on iTunes   \n",
      "4725                   My first podcast drops on iTunes   \n",
      "4726                   My first podcast drops on iTunes   \n",
      "\n",
      "                                                 Sent_2   Label  \\\n",
      "0     A Walk to Remember is on and Im in town and Im...  (1, 4)   \n",
      "1                A Walk to Remember is the cutest thing  (3, 2)   \n",
      "2     A walk to remember is on ABC family youre welcome  (1, 4)   \n",
      "3        A walk to remember is so amazing and inspiring  (3, 2)   \n",
      "4     BUT GUYS ITS ON MY FAVE PART OF A WALK TO REME...  (1, 4)   \n",
      "...                                                 ...     ...   \n",
      "4722                No wonder I spend so much on iTunes  (0, 5)   \n",
      "4723              Our Dead and Gone EP is now on iTunes  (1, 4)   \n",
      "4724             amslingshots is 7 on the iTunes charts  (0, 5)   \n",
      "4725                      iTunes deleted my voice memos  (0, 5)   \n",
      "4726  the new cd from RRBChoir is now available on i...  (0, 5)   \n",
      "\n",
      "                                             Sent_1_tag  \\\n",
      "0     A/O/DT/B-NP/O Walk/O/NN/I-NP/O to/O/TO/B-VP/O ...   \n",
      "1     A/O/DT/B-NP/O Walk/O/NN/I-NP/O to/O/TO/B-VP/O ...   \n",
      "2     A/O/DT/B-NP/O Walk/O/NN/I-NP/O to/O/TO/B-VP/O ...   \n",
      "3     A/O/DT/B-NP/O Walk/O/NN/I-NP/O to/O/TO/B-VP/O ...   \n",
      "4     A/O/DT/B-NP/O Walk/O/NN/I-NP/O to/O/TO/B-VP/O ...   \n",
      "...                                                 ...   \n",
      "4722  My/O/PRP$/B-NP/O first/O/JJ/I-NP/O podcast/O/N...   \n",
      "4723  My/O/PRP$/B-NP/O first/O/JJ/I-NP/O podcast/O/N...   \n",
      "4724  My/O/PRP$/B-NP/O first/O/JJ/I-NP/O podcast/O/N...   \n",
      "4725  My/O/PRP$/B-NP/O first/O/JJ/I-NP/O podcast/O/N...   \n",
      "4726  My/O/PRP$/B-NP/O first/O/JJ/I-NP/O podcast/O/N...   \n",
      "\n",
      "                                             Sent_2_tag  \n",
      "0     A/O/DT/B-NP/O Walk/O/NN/I-NP/O to/O/TO/B-VP/O ...  \n",
      "1     A/O/DT/B-NP/O Walk/O/NN/I-NP/O to/O/TO/B-VP/O ...  \n",
      "2     A/O/DT/B-NP/O walk/O/NN/I-NP/O to/O/TO/B-VP/O ...  \n",
      "3     A/O/DT/B-NP/O walk/O/NN/I-NP/O to/O/TO/B-VP/O ...  \n",
      "4     BUT/O/CC/O/O GUYS/O/VBP/B-VP/B-EVENT ITS/O/PRP...  \n",
      "...                                                 ...  \n",
      "4722  No/O/DT/B-NP/O wonder/O/NN/I-NP/O I/O/PRP/B-NP...  \n",
      "4723  Our/O/PRP/B-NP/O Dead/O/JJ/I-NP/O and/O/CC/I-N...  \n",
      "4724  amslingshots/O/NNP/B-NP/O is/O/VBZ/B-VP/O 7/O/...  \n",
      "4725  iTunes/B-company/NNP/B-NP/O deleted/O/VBD/B-VP...  \n",
      "4726  the/O/DT/B-NP/O new/O/JJ/I-NP/O cd/O/NN/I-NP/O...  \n",
      "\n",
      "[4727 rows x 7 columns]\n"
     ]
    }
   ],
   "source": [
    "df_dev = pd.read_csv('./DataFiles/dev.data', sep='\\t', header=None)\n",
    "df_dev = pd.DataFrame(df_dev)\n",
    "\n",
    "df_dev.columns = ['Topic_Id','Topic_Name','Sent_1','Sent_2','Label','Sent_1_tag','Sent_2_tag']\n",
    "\n",
    "print(df_dev)"
   ]
  },
  {
   "cell_type": "code",
   "execution_count": 8,
   "id": "1b53197c",
   "metadata": {},
   "outputs": [
    {
     "name": "stdout",
     "output_type": "stream",
     "text": [
      "<class 'pandas.core.frame.DataFrame'>\n",
      "RangeIndex: 4727 entries, 0 to 4726\n",
      "Data columns (total 7 columns):\n",
      " #   Column      Non-Null Count  Dtype \n",
      "---  ------      --------------  ----- \n",
      " 0   Topic_Id    4727 non-null   int64 \n",
      " 1   Topic_Name  4727 non-null   object\n",
      " 2   Sent_1      4727 non-null   object\n",
      " 3   Sent_2      4727 non-null   object\n",
      " 4   Label       4727 non-null   object\n",
      " 5   Sent_1_tag  4727 non-null   object\n",
      " 6   Sent_2_tag  4727 non-null   object\n",
      "dtypes: int64(1), object(6)\n",
      "memory usage: 258.6+ KB\n"
     ]
    }
   ],
   "source": [
    "df_dev.info()\n",
    "\n",
    "df_dev.to_csv(\"./DataFiles/dev.csv\",index=False)\n"
   ]
  },
  {
   "cell_type": "code",
   "execution_count": 9,
   "id": "87e5d114",
   "metadata": {},
   "outputs": [],
   "source": [
    "#drop the lines that Label = '(2, 3)'\n",
    "df_dev_new = df_dev.query(\"Label != '(2, 3)'\")\n",
    "df_dev_new = df_dev_new.reset_index()\n",
    "df_dev_new.drop([\"index\"],axis=1, inplace=True)\n",
    "\n",
    "# write the dev data to csv file, do not include lines that Label == '(2, 3)'\n",
    "df_dev_new.to_csv(\"./DataFiles/dev_01_ori.csv\",index=False)\n",
    "\n",
    "df_dev_01 = df_dev_new.copy()\n",
    "df_dev_01['Label'].replace('(0, 5)',0, inplace=True)\n",
    "df_dev_01['Label'].replace('(1, 4)',0, inplace=True)\n",
    "\n",
    "df_dev_01['Label'].replace('(3, 2)',1, inplace=True)\n",
    "df_dev_01['Label'].replace('(4, 1)',1, inplace=True)\n",
    "df_dev_01['Label'].replace('(5, 0)',1, inplace=True)\n",
    "\n",
    "Counter(df_dev_01['Label'])\n",
    "\n",
    "# write the dev data to csv file, Label = 0 or 1\n",
    "df_dev_01.to_csv(\"./DataFiles/dev_01.csv\",index=False)"
   ]
  },
  {
   "cell_type": "code",
   "execution_count": null,
   "id": "5fc9eed6",
   "metadata": {},
   "outputs": [],
   "source": []
  },
  {
   "cell_type": "code",
   "execution_count": null,
   "id": "acfb4d5a",
   "metadata": {},
   "outputs": [],
   "source": []
  }
 ],
 "metadata": {
  "kernelspec": {
   "display_name": "Python 3 (ipykernel)",
   "language": "python",
   "name": "python3"
  },
  "language_info": {
   "codemirror_mode": {
    "name": "ipython",
    "version": 3
   },
   "file_extension": ".py",
   "mimetype": "text/x-python",
   "name": "python",
   "nbconvert_exporter": "python",
   "pygments_lexer": "ipython3",
   "version": "3.9.13"
  }
 },
 "nbformat": 4,
 "nbformat_minor": 5
}
