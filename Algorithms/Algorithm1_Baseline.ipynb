{
  "nbformat": 4,
  "nbformat_minor": 0,
  "metadata": {
    "colab": {
      "provenance": [],
      "include_colab_link": true
    },
    "kernelspec": {
      "name": "python3",
      "display_name": "Python 3"
    },
    "language_info": {
      "name": "python"
    }
  },
  "cells": [
    {
      "cell_type": "markdown",
      "metadata": {
        "id": "view-in-github",
        "colab_type": "text"
      },
      "source": [
        "<a href=\"https://colab.research.google.com/github/delphi12/VirtualAssistant_Assignment2/blob/main/Algorithms/Algorithm1_Baseline.ipynb\" target=\"_parent\"><img src=\"https://colab.research.google.com/assets/colab-badge.svg\" alt=\"Open In Colab\"/></a>"
      ]
    },
    {
      "cell_type": "code",
      "execution_count": 27,
      "metadata": {
        "id": "M0RgXQP1LDVe"
      },
      "outputs": [],
      "source": [
        "#importing necessary packages\n",
        "import pandas as pd\n",
        "from sklearn import tree\n",
        "from nltk.metrics import edit_distance\n",
        "from sklearn.metrics import classification_report, f1_score"
      ]
    },
    {
      "cell_type": "code",
      "source": [
        "#reading the preprocessed train, dev and test data\n",
        "df_train = pd.read_csv('/train_01.csv')\n",
        "df_dev = pd.read_csv('/dev_01.csv')\n",
        "df_test = pd.read_csv('/test_01.csv')"
      ],
      "metadata": {
        "id": "acFbgga_LeAr"
      },
      "execution_count": 28,
      "outputs": []
    },
    {
      "cell_type": "code",
      "source": [
        "def getEditDistance(dataframe, size):\n",
        "  distance = []\n",
        "  for i in range(size):\n",
        "    sent1 = str(dataframe['Sent_1'][i])\n",
        "    sent2 = str(dataframe['Sent_2'][i])\n",
        "    #print(i, edit_distance(sent1, sent2), sent1, sent2, sep=\"*\")\n",
        "    distance.append(edit_distance(sent1, sent2))\n",
        "  return distance"
      ],
      "metadata": {
        "id": "YYUoW9RgbOLZ"
      },
      "execution_count": 29,
      "outputs": []
    },
    {
      "cell_type": "code",
      "source": [
        "def removeNanValueRows(dataframe):\n",
        "  if(dataframe.isna().sum().sum()) > 0:\n",
        "    dataframe = dataframe.dropna()\n",
        "  return dataframe"
      ],
      "metadata": {
        "id": "qpSvtXHZc9Kp"
      },
      "execution_count": 30,
      "outputs": []
    },
    {
      "cell_type": "markdown",
      "source": [
        "# **Train Dataset: Edit Distance Calculation**\n",
        "\n"
      ],
      "metadata": {
        "id": "EwgJzU6TQUHM"
      }
    },
    {
      "cell_type": "code",
      "source": [
        "size = len(df_train)\n",
        "distance = getEditDistance(df_train, size)\n",
        "\n",
        "# train data for model training\n",
        "train_data = pd.concat([df_train['Topic_Id'], pd.DataFrame(distance),df_train['Label']],axis=1)\n",
        "train_data.columns = ['Topic_Id','distance','Label']\n",
        "\n",
        "#Removing Nan value Rows\n",
        "train_data = removeNanValueRows(train_data)\n",
        "\n",
        "# write the train data to csv file\n",
        "train_data.to_csv(\"/train_data_alg1.csv\",index=0)"
      ],
      "metadata": {
        "id": "yMQ5jCVJRV9v"
      },
      "execution_count": 31,
      "outputs": []
    },
    {
      "cell_type": "markdown",
      "source": [
        "# **Dev Dataset: Edit Distance Calculation**\n"
      ],
      "metadata": {
        "id": "tT76zwU5V_W-"
      }
    },
    {
      "cell_type": "code",
      "source": [
        "size = len(df_dev)\n",
        "edit_dis_dev = getEditDistance(df_dev, size)\n",
        "\n",
        "# dev data for model training\n",
        "dev_data = pd.concat([df_dev['Topic_Id'],pd.DataFrame(edit_dis_dev),df_dev['Label']],axis=1)\n",
        "dev_data.columns = ['Topic_Id','distance','Label']\n",
        "\n",
        "#Removing Nan value Rows\n",
        "dev_data = removeNanValueRows(dev_data)\n",
        "\n",
        "# write the dev data to csv file\n",
        "dev_data.to_csv(\"/dev_data_alg1.csv\",index=0)"
      ],
      "metadata": {
        "id": "Q1616t--WE7A"
      },
      "execution_count": 32,
      "outputs": []
    },
    {
      "cell_type": "markdown",
      "source": [
        "## **Test Dataset: Edit Distance Calculation**"
      ],
      "metadata": {
        "id": "A80nzaOzWL2A"
      }
    },
    {
      "cell_type": "code",
      "source": [
        "size = len(df_test)\n",
        "edit_dis_test = getEditDistance(df_test, size)\n",
        "\n",
        "# test data for model training\n",
        "test_data = pd.concat([df_test['Topic_Id'],pd.DataFrame(edit_dis_test),df_test['Label']],axis=1)\n",
        "test_data.columns = ['Topic_Id','distance','Label']\n",
        "\n",
        "#Removing Nan value Rows\n",
        "test_data = removeNanValueRows(test_data)\n",
        "\n",
        "# write the test data to csv file\n",
        "test_data.to_csv(\"/test_data_alg1.csv\",index=0)"
      ],
      "metadata": {
        "id": "DClmsqgQWWsX"
      },
      "execution_count": 33,
      "outputs": []
    },
    {
      "cell_type": "markdown",
      "source": [
        "# **Baseline Algorithm**"
      ],
      "metadata": {
        "id": "14mFkVXvWdrY"
      }
    },
    {
      "cell_type": "code",
      "source": [
        "# train data_X, train_data_y\n",
        "train_data_y = train_data['Label']\n",
        "train_data_X = train_data.copy()\n",
        "train_data_X.drop(['Label'],axis=1,inplace=True)"
      ],
      "metadata": {
        "id": "SQ3xxhfNWs42"
      },
      "execution_count": 34,
      "outputs": []
    },
    {
      "cell_type": "code",
      "source": [
        "# dev_data_X, dev_data_y\n",
        "dev_data_y = dev_data['Label']\n",
        "dev_data_X = dev_data.copy()\n",
        "dev_data_X.drop(['Label'],axis=1,inplace=True)"
      ],
      "metadata": {
        "id": "SKLqKN1-WvIj"
      },
      "execution_count": 35,
      "outputs": []
    },
    {
      "cell_type": "code",
      "source": [
        "# test_data_X, test_data_y\n",
        "test_data_y = test_data['Label']\n",
        "test_data_X = test_data.copy()\n",
        "test_data_X.drop(['Label'], axis=1, inplace=True)"
      ],
      "metadata": {
        "id": "grvSUd3bWxVZ"
      },
      "execution_count": 36,
      "outputs": []
    },
    {
      "cell_type": "markdown",
      "source": [
        "### **Train the model with DecisionTreeClassifier**"
      ],
      "metadata": {
        "id": "thZQO7QrWziA"
      }
    },
    {
      "cell_type": "code",
      "source": [
        "clf_tree = tree.DecisionTreeClassifier(criterion=\"entropy\")\n",
        "clf_tree = clf_tree.fit(train_data_X,train_data_y)\n",
        "score_tree = clf_tree.score(dev_data_X, dev_data_y)\n",
        "print(\"score_tree:\",score_tree)"
      ],
      "metadata": {
        "colab": {
          "base_uri": "https://localhost:8080/"
        },
        "id": "bCWX2BihW5An",
        "outputId": "1c3c8551-f855-43ea-fa9f-d9520b85160a"
      },
      "execution_count": 37,
      "outputs": [
        {
          "output_type": "stream",
          "name": "stdout",
          "text": [
            "score_tree: 0.6277160791887977\n"
          ]
        }
      ]
    },
    {
      "cell_type": "code",
      "source": [
        "dev_y_pred = clf_tree.predict(dev_data_X)\n",
        "dev_y_true = dev_data_y\n",
        "f1 = f1_score(dev_y_true,dev_y_pred)\n",
        "print(\"f1_score:\",f1)\n",
        "\n",
        "print(classification_report(dev_y_true,dev_y_pred))"
      ],
      "metadata": {
        "colab": {
          "base_uri": "https://localhost:8080/"
        },
        "id": "183AW9MxXBpa",
        "outputId": "4101e7d5-33cf-4a40-cc29-dfc85c0ef7e8"
      },
      "execution_count": 38,
      "outputs": [
        {
          "output_type": "stream",
          "name": "stdout",
          "text": [
            "f1_score: 0.36122618061309025\n",
            "              precision    recall  f1-score   support\n",
            "\n",
            "           0       0.68      0.81      0.74      2672\n",
            "           1       0.46      0.30      0.36      1470\n",
            "\n",
            "    accuracy                           0.63      4142\n",
            "   macro avg       0.57      0.55      0.55      4142\n",
            "weighted avg       0.60      0.63      0.60      4142\n",
            "\n"
          ]
        }
      ]
    },
    {
      "cell_type": "code",
      "source": [
        "# test\n",
        "test_y_pred = clf_tree.predict(test_data_X)\n",
        "test_y_true = test_data_y\n",
        "f1_test = f1_score(test_y_true,test_y_pred)\n",
        "print(\"f1_score_test:\",f1_test)\n",
        "print(\"\\ntest:\")\n",
        "print(classification_report(test_y_true, test_y_pred))"
      ],
      "metadata": {
        "colab": {
          "base_uri": "https://localhost:8080/"
        },
        "id": "ghs79nRIXEaw",
        "outputId": "4bb0a65d-cac7-4798-ab2f-5291f7b3485a"
      },
      "execution_count": 39,
      "outputs": [
        {
          "output_type": "stream",
          "name": "stdout",
          "text": [
            "f1_score_test: 0.07792207792207792\n",
            "\n",
            "test:\n",
            "              precision    recall  f1-score   support\n",
            "\n",
            "           0       0.79      0.93      0.85       663\n",
            "           1       0.16      0.05      0.08       175\n",
            "\n",
            "    accuracy                           0.75       838\n",
            "   macro avg       0.47      0.49      0.47       838\n",
            "weighted avg       0.66      0.75      0.69       838\n",
            "\n"
          ]
        }
      ]
    },
    {
      "cell_type": "code",
      "source": [
        "from sklearn.metrics import RocCurveDisplay\n",
        "roc_disp = RocCurveDisplay.from_estimator(clf_tree, test_data_X, test_data_y)"
      ],
      "metadata": {
        "colab": {
          "base_uri": "https://localhost:8080/",
          "height": 279
        },
        "id": "W_r1QFj6EheB",
        "outputId": "cb148b72-1ac8-4bbd-98b8-39c05831f157"
      },
      "execution_count": 40,
      "outputs": [
        {
          "output_type": "display_data",
          "data": {
            "text/plain": [
              "<Figure size 432x288 with 1 Axes>"
            ],
            "image/png": "[encoded data removed]"
          },
          "metadata": {
            "needs_background": "light"
          }
        }
      ]
    }
  ]
}